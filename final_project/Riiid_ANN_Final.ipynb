{
  "nbformat": 4,
  "nbformat_minor": 0,
  "metadata": {
    "colab": {
      "name": "karan18csu103.ipynb",
      "provenance": []
    },
    "kernelspec": {
      "name": "python3",
      "display_name": "Python 3"
    },
    "accelerator": "TPU"
  },
  "cells": [
    {
      "cell_type": "markdown",
      "metadata": {
        "id": "YTEKeyOzc4Fd"
      },
      "source": [
        "\r\n",
        "![riid.png](data:image/png;base64,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)\r\n"
      ]
    },
    {
      "cell_type": "markdown",
      "metadata": {
        "id": "hUfe1Sv6dSSO"
      },
      "source": [
        "Riiid is a company whose goal is to imporve quality of education using AI.\r\n",
        "\r\n",
        "Riiid wants to make persnolised education better for every student using AI."
      ]
    },
    {
      "cell_type": "markdown",
      "metadata": {
        "id": "Ca3mjRSfc_2s"
      },
      "source": [
        "Riiid Labs, an AI solutions provider delivering creative disruption to the education market, empowers global education players to rethink traditional ways of learning leveraging AI. With a strong belief in equal opportunity in education, Riiid launched an AI tutor based on deep-learning algorithms in 2017 that attracted more than one million South Korean students. This year, the company released EdNet, the world’s largest open database for AI education containing more than 100 million student interactions.\r\n",
        "\r\n"
      ]
    },
    {
      "cell_type": "markdown",
      "metadata": {
        "id": "lz1PTp8ndon5"
      },
      "source": [
        "In this competition, your challenge is to create algorithms for \"Knowledge Tracing,\" the modeling of student knowledge over time. The goal is to accurately predict how students will perform on future interactions. we will pair your machine learning skills using Riiid’s EdNet data.\r\n"
      ]
    },
    {
      "cell_type": "markdown",
      "metadata": {
        "id": "qMbq8wJedqV5"
      },
      "source": [
        "Overview of the dataset"
      ]
    },
    {
      "cell_type": "code",
      "metadata": {
        "id": "BsHXhUmFdDoq"
      },
      "source": [
        "import os\r\n",
        "os.environ['KAGGLE_USERNAME']='karanchoudhary103'\r\n",
        "os.environ['KAGGLE_KEY']='3e84e0a4f94d7b95f0e24ff242c5aa45'"
      ],
      "execution_count": null,
      "outputs": []
    },
    {
      "cell_type": "code",
      "metadata": {
        "id": "v-uBhlZqe3R8"
      },
      "source": [
        "#Api command to load data in colab from kaggle\r\n",
        "! kaggle competitions download -c riiid-test-answer-prediction"
      ],
      "execution_count": null,
      "outputs": []
    },
    {
      "cell_type": "code",
      "metadata": {
        "id": "mVbKGWzhfMMc"
      },
      "source": [
        "#unzipping the train.csv file  and rest of the files are unziped\r\n",
        "! unzip train.csv.zip"
      ],
      "execution_count": null,
      "outputs": []
    },
    {
      "cell_type": "code",
      "metadata": {
        "id": "d9aYFQmvfZ6M"
      },
      "source": [
        "#importing the libraries \r\n",
        "import pandas as pd\r\n",
        "import numpy as np\r\n",
        "import matplotlib.pyplot as plt\r\n",
        "\r\n",
        "#reading the data train.csv,questions.csv,lectures.csv\r\n",
        "data=pd.read_csv('train.csv',nrows=10000000)"
      ],
      "execution_count": null,
      "outputs": []
    },
    {
      "cell_type": "code",
      "metadata": {
        "id": "C5Nmcc_3gNFR"
      },
      "source": [
        "data.columns"
      ],
      "execution_count": null,
      "outputs": []
    },
    {
      "cell_type": "code",
      "metadata": {
        "colab": {
          "base_uri": "https://localhost:8080/",
          "height": 217
        },
        "id": "sjxMG7YxiSIl",
        "outputId": "3f718bbb-5f82-4123-d613-e46758c3aec5"
      },
      "source": [
        "data.head()"
      ],
      "execution_count": 42,
      "outputs": [
        {
          "output_type": "execute_result",
          "data": {
            "text/html": [
              "<div>\n",
              "<style scoped>\n",
              "    .dataframe tbody tr th:only-of-type {\n",
              "        vertical-align: middle;\n",
              "    }\n",
              "\n",
              "    .dataframe tbody tr th {\n",
              "        vertical-align: top;\n",
              "    }\n",
              "\n",
              "    .dataframe thead th {\n",
              "        text-align: right;\n",
              "    }\n",
              "</style>\n",
              "<table border=\"1\" class=\"dataframe\">\n",
              "  <thead>\n",
              "    <tr style=\"text-align: right;\">\n",
              "      <th></th>\n",
              "      <th>row_id</th>\n",
              "      <th>timestamp</th>\n",
              "      <th>user_id</th>\n",
              "      <th>content_id</th>\n",
              "      <th>content_type_id</th>\n",
              "      <th>task_container_id</th>\n",
              "      <th>user_answer</th>\n",
              "      <th>answered_correctly</th>\n",
              "      <th>prior_question_elapsed_time</th>\n",
              "      <th>prior_question_had_explanation</th>\n",
              "    </tr>\n",
              "  </thead>\n",
              "  <tbody>\n",
              "    <tr>\n",
              "      <th>0</th>\n",
              "      <td>0</td>\n",
              "      <td>0</td>\n",
              "      <td>115</td>\n",
              "      <td>5692</td>\n",
              "      <td>0</td>\n",
              "      <td>1</td>\n",
              "      <td>3</td>\n",
              "      <td>1</td>\n",
              "      <td>0.0</td>\n",
              "      <td>False</td>\n",
              "    </tr>\n",
              "    <tr>\n",
              "      <th>1</th>\n",
              "      <td>1</td>\n",
              "      <td>56943</td>\n",
              "      <td>115</td>\n",
              "      <td>5716</td>\n",
              "      <td>0</td>\n",
              "      <td>2</td>\n",
              "      <td>2</td>\n",
              "      <td>1</td>\n",
              "      <td>37000.0</td>\n",
              "      <td>False</td>\n",
              "    </tr>\n",
              "    <tr>\n",
              "      <th>2</th>\n",
              "      <td>2</td>\n",
              "      <td>118363</td>\n",
              "      <td>115</td>\n",
              "      <td>128</td>\n",
              "      <td>0</td>\n",
              "      <td>0</td>\n",
              "      <td>0</td>\n",
              "      <td>1</td>\n",
              "      <td>55000.0</td>\n",
              "      <td>False</td>\n",
              "    </tr>\n",
              "    <tr>\n",
              "      <th>3</th>\n",
              "      <td>3</td>\n",
              "      <td>131167</td>\n",
              "      <td>115</td>\n",
              "      <td>7860</td>\n",
              "      <td>0</td>\n",
              "      <td>3</td>\n",
              "      <td>0</td>\n",
              "      <td>1</td>\n",
              "      <td>19000.0</td>\n",
              "      <td>False</td>\n",
              "    </tr>\n",
              "    <tr>\n",
              "      <th>4</th>\n",
              "      <td>4</td>\n",
              "      <td>137965</td>\n",
              "      <td>115</td>\n",
              "      <td>7922</td>\n",
              "      <td>0</td>\n",
              "      <td>4</td>\n",
              "      <td>1</td>\n",
              "      <td>1</td>\n",
              "      <td>11000.0</td>\n",
              "      <td>False</td>\n",
              "    </tr>\n",
              "  </tbody>\n",
              "</table>\n",
              "</div>"
            ],
            "text/plain": [
              "   row_id  ...  prior_question_had_explanation\n",
              "0       0  ...                           False\n",
              "1       1  ...                           False\n",
              "2       2  ...                           False\n",
              "3       3  ...                           False\n",
              "4       4  ...                           False\n",
              "\n",
              "[5 rows x 10 columns]"
            ]
          },
          "metadata": {
            "tags": []
          },
          "execution_count": 42
        }
      ]
    },
    {
      "cell_type": "code",
      "metadata": {
        "id": "M-Wsus6fgV51"
      },
      "source": [
        "data.shape"
      ],
      "execution_count": null,
      "outputs": []
    },
    {
      "cell_type": "code",
      "metadata": {
        "id": "pgiKwTqlgYCm"
      },
      "source": [
        "data.info()"
      ],
      "execution_count": null,
      "outputs": []
    },
    {
      "cell_type": "code",
      "metadata": {
        "colab": {
          "base_uri": "https://localhost:8080/"
        },
        "id": "YYZb8LzViWzc",
        "outputId": "8cdc864d-bcb2-47ff-e0c6-c3c591a0b085"
      },
      "source": [
        "#checking the null value in the dataset\r\n",
        "data.isna().sum()"
      ],
      "execution_count": 10,
      "outputs": [
        {
          "output_type": "execute_result",
          "data": {
            "text/plain": [
              "row_id                                 0\n",
              "timestamp                              0\n",
              "user_id                                0\n",
              "content_id                             0\n",
              "content_type_id                        0\n",
              "task_container_id                      0\n",
              "user_answer                            0\n",
              "answered_correctly                     0\n",
              "prior_question_elapsed_time       234784\n",
              "prior_question_had_explanation     39388\n",
              "dtype: int64"
            ]
          },
          "metadata": {
            "tags": []
          },
          "execution_count": 10
        }
      ]
    },
    {
      "cell_type": "code",
      "metadata": {
        "colab": {
          "base_uri": "https://localhost:8080/"
        },
        "id": "GWwa2ArDhLFR",
        "outputId": "f33c6340-08b3-452c-949b-fa46324177ee"
      },
      "source": [
        "#finding the uique value in the dataset\r\n",
        "data.nunique()"
      ],
      "execution_count": 11,
      "outputs": [
        {
          "output_type": "execute_result",
          "data": {
            "text/plain": [
              "row_id                            10000000\n",
              "timestamp                          7534842\n",
              "user_id                              39491\n",
              "content_id                           13749\n",
              "content_type_id                          2\n",
              "task_container_id                    10000\n",
              "user_answer                              5\n",
              "answered_correctly                       3\n",
              "prior_question_elapsed_time           2583\n",
              "prior_question_had_explanation           2\n",
              "dtype: int64"
            ]
          },
          "metadata": {
            "tags": []
          },
          "execution_count": 11
        }
      ]
    },
    {
      "cell_type": "code",
      "metadata": {
        "colab": {
          "base_uri": "https://localhost:8080/",
          "height": 197
        },
        "id": "D3Eb_AeSkvbS",
        "outputId": "2036a65c-8752-4aa1-897f-17250a9c2359"
      },
      "source": [
        "data.describe().style.applymap(lambda x:\"background-color:yellow\")"
      ],
      "execution_count": 12,
      "outputs": [
        {
          "output_type": "execute_result",
          "data": {
            "text/html": [
              "<style  type=\"text/css\" >\n",
              "#T_e6c6d9b2_3a3f_11eb_8d96_0242ac1c0002row0_col0,#T_e6c6d9b2_3a3f_11eb_8d96_0242ac1c0002row0_col1,#T_e6c6d9b2_3a3f_11eb_8d96_0242ac1c0002row0_col2,#T_e6c6d9b2_3a3f_11eb_8d96_0242ac1c0002row0_col3,#T_e6c6d9b2_3a3f_11eb_8d96_0242ac1c0002row0_col4,#T_e6c6d9b2_3a3f_11eb_8d96_0242ac1c0002row0_col5,#T_e6c6d9b2_3a3f_11eb_8d96_0242ac1c0002row0_col6,#T_e6c6d9b2_3a3f_11eb_8d96_0242ac1c0002row0_col7,#T_e6c6d9b2_3a3f_11eb_8d96_0242ac1c0002row0_col8,#T_e6c6d9b2_3a3f_11eb_8d96_0242ac1c0002row1_col0,#T_e6c6d9b2_3a3f_11eb_8d96_0242ac1c0002row1_col1,#T_e6c6d9b2_3a3f_11eb_8d96_0242ac1c0002row1_col2,#T_e6c6d9b2_3a3f_11eb_8d96_0242ac1c0002row1_col3,#T_e6c6d9b2_3a3f_11eb_8d96_0242ac1c0002row1_col4,#T_e6c6d9b2_3a3f_11eb_8d96_0242ac1c0002row1_col5,#T_e6c6d9b2_3a3f_11eb_8d96_0242ac1c0002row1_col6,#T_e6c6d9b2_3a3f_11eb_8d96_0242ac1c0002row1_col7,#T_e6c6d9b2_3a3f_11eb_8d96_0242ac1c0002row1_col8,#T_e6c6d9b2_3a3f_11eb_8d96_0242ac1c0002row2_col0,#T_e6c6d9b2_3a3f_11eb_8d96_0242ac1c0002row2_col1,#T_e6c6d9b2_3a3f_11eb_8d96_0242ac1c0002row2_col2,#T_e6c6d9b2_3a3f_11eb_8d96_0242ac1c0002row2_col3,#T_e6c6d9b2_3a3f_11eb_8d96_0242ac1c0002row2_col4,#T_e6c6d9b2_3a3f_11eb_8d96_0242ac1c0002row2_col5,#T_e6c6d9b2_3a3f_11eb_8d96_0242ac1c0002row2_col6,#T_e6c6d9b2_3a3f_11eb_8d96_0242ac1c0002row2_col7,#T_e6c6d9b2_3a3f_11eb_8d96_0242ac1c0002row2_col8,#T_e6c6d9b2_3a3f_11eb_8d96_0242ac1c0002row3_col0,#T_e6c6d9b2_3a3f_11eb_8d96_0242ac1c0002row3_col1,#T_e6c6d9b2_3a3f_11eb_8d96_0242ac1c0002row3_col2,#T_e6c6d9b2_3a3f_11eb_8d96_0242ac1c0002row3_col3,#T_e6c6d9b2_3a3f_11eb_8d96_0242ac1c0002row3_col4,#T_e6c6d9b2_3a3f_11eb_8d96_0242ac1c0002row3_col5,#T_e6c6d9b2_3a3f_11eb_8d96_0242ac1c0002row3_col6,#T_e6c6d9b2_3a3f_11eb_8d96_0242ac1c0002row3_col7,#T_e6c6d9b2_3a3f_11eb_8d96_0242ac1c0002row3_col8,#T_e6c6d9b2_3a3f_11eb_8d96_0242ac1c0002row4_col0,#T_e6c6d9b2_3a3f_11eb_8d96_0242ac1c0002row4_col1,#T_e6c6d9b2_3a3f_11eb_8d96_0242ac1c0002row4_col2,#T_e6c6d9b2_3a3f_11eb_8d96_0242ac1c0002row4_col3,#T_e6c6d9b2_3a3f_11eb_8d96_0242ac1c0002row4_col4,#T_e6c6d9b2_3a3f_11eb_8d96_0242ac1c0002row4_col5,#T_e6c6d9b2_3a3f_11eb_8d96_0242ac1c0002row4_col6,#T_e6c6d9b2_3a3f_11eb_8d96_0242ac1c0002row4_col7,#T_e6c6d9b2_3a3f_11eb_8d96_0242ac1c0002row4_col8,#T_e6c6d9b2_3a3f_11eb_8d96_0242ac1c0002row5_col0,#T_e6c6d9b2_3a3f_11eb_8d96_0242ac1c0002row5_col1,#T_e6c6d9b2_3a3f_11eb_8d96_0242ac1c0002row5_col2,#T_e6c6d9b2_3a3f_11eb_8d96_0242ac1c0002row5_col3,#T_e6c6d9b2_3a3f_11eb_8d96_0242ac1c0002row5_col4,#T_e6c6d9b2_3a3f_11eb_8d96_0242ac1c0002row5_col5,#T_e6c6d9b2_3a3f_11eb_8d96_0242ac1c0002row5_col6,#T_e6c6d9b2_3a3f_11eb_8d96_0242ac1c0002row5_col7,#T_e6c6d9b2_3a3f_11eb_8d96_0242ac1c0002row5_col8,#T_e6c6d9b2_3a3f_11eb_8d96_0242ac1c0002row6_col0,#T_e6c6d9b2_3a3f_11eb_8d96_0242ac1c0002row6_col1,#T_e6c6d9b2_3a3f_11eb_8d96_0242ac1c0002row6_col2,#T_e6c6d9b2_3a3f_11eb_8d96_0242ac1c0002row6_col3,#T_e6c6d9b2_3a3f_11eb_8d96_0242ac1c0002row6_col4,#T_e6c6d9b2_3a3f_11eb_8d96_0242ac1c0002row6_col5,#T_e6c6d9b2_3a3f_11eb_8d96_0242ac1c0002row6_col6,#T_e6c6d9b2_3a3f_11eb_8d96_0242ac1c0002row6_col7,#T_e6c6d9b2_3a3f_11eb_8d96_0242ac1c0002row6_col8,#T_e6c6d9b2_3a3f_11eb_8d96_0242ac1c0002row7_col0,#T_e6c6d9b2_3a3f_11eb_8d96_0242ac1c0002row7_col1,#T_e6c6d9b2_3a3f_11eb_8d96_0242ac1c0002row7_col2,#T_e6c6d9b2_3a3f_11eb_8d96_0242ac1c0002row7_col3,#T_e6c6d9b2_3a3f_11eb_8d96_0242ac1c0002row7_col4,#T_e6c6d9b2_3a3f_11eb_8d96_0242ac1c0002row7_col5,#T_e6c6d9b2_3a3f_11eb_8d96_0242ac1c0002row7_col6,#T_e6c6d9b2_3a3f_11eb_8d96_0242ac1c0002row7_col7,#T_e6c6d9b2_3a3f_11eb_8d96_0242ac1c0002row7_col8{\n",
              "            background-color: yellow;\n",
              "        }</style><table id=\"T_e6c6d9b2_3a3f_11eb_8d96_0242ac1c0002\" ><thead>    <tr>        <th class=\"blank level0\" ></th>        <th class=\"col_heading level0 col0\" >row_id</th>        <th class=\"col_heading level0 col1\" >timestamp</th>        <th class=\"col_heading level0 col2\" >user_id</th>        <th class=\"col_heading level0 col3\" >content_id</th>        <th class=\"col_heading level0 col4\" >content_type_id</th>        <th class=\"col_heading level0 col5\" >task_container_id</th>        <th class=\"col_heading level0 col6\" >user_answer</th>        <th class=\"col_heading level0 col7\" >answered_correctly</th>        <th class=\"col_heading level0 col8\" >prior_question_elapsed_time</th>    </tr></thead><tbody>\n",
              "                <tr>\n",
              "                        <th id=\"T_e6c6d9b2_3a3f_11eb_8d96_0242ac1c0002level0_row0\" class=\"row_heading level0 row0\" >count</th>\n",
              "                        <td id=\"T_e6c6d9b2_3a3f_11eb_8d96_0242ac1c0002row0_col0\" class=\"data row0 col0\" >10000000.000000</td>\n",
              "                        <td id=\"T_e6c6d9b2_3a3f_11eb_8d96_0242ac1c0002row0_col1\" class=\"data row0 col1\" >10000000.000000</td>\n",
              "                        <td id=\"T_e6c6d9b2_3a3f_11eb_8d96_0242ac1c0002row0_col2\" class=\"data row0 col2\" >10000000.000000</td>\n",
              "                        <td id=\"T_e6c6d9b2_3a3f_11eb_8d96_0242ac1c0002row0_col3\" class=\"data row0 col3\" >10000000.000000</td>\n",
              "                        <td id=\"T_e6c6d9b2_3a3f_11eb_8d96_0242ac1c0002row0_col4\" class=\"data row0 col4\" >10000000.000000</td>\n",
              "                        <td id=\"T_e6c6d9b2_3a3f_11eb_8d96_0242ac1c0002row0_col5\" class=\"data row0 col5\" >10000000.000000</td>\n",
              "                        <td id=\"T_e6c6d9b2_3a3f_11eb_8d96_0242ac1c0002row0_col6\" class=\"data row0 col6\" >10000000.000000</td>\n",
              "                        <td id=\"T_e6c6d9b2_3a3f_11eb_8d96_0242ac1c0002row0_col7\" class=\"data row0 col7\" >10000000.000000</td>\n",
              "                        <td id=\"T_e6c6d9b2_3a3f_11eb_8d96_0242ac1c0002row0_col8\" class=\"data row0 col8\" >9765216.000000</td>\n",
              "            </tr>\n",
              "            <tr>\n",
              "                        <th id=\"T_e6c6d9b2_3a3f_11eb_8d96_0242ac1c0002level0_row1\" class=\"row_heading level0 row1\" >mean</th>\n",
              "                        <td id=\"T_e6c6d9b2_3a3f_11eb_8d96_0242ac1c0002row1_col0\" class=\"data row1 col0\" >4999999.500000</td>\n",
              "                        <td id=\"T_e6c6d9b2_3a3f_11eb_8d96_0242ac1c0002row1_col1\" class=\"data row1 col1\" >7546528145.518233</td>\n",
              "                        <td id=\"T_e6c6d9b2_3a3f_11eb_8d96_0242ac1c0002row1_col2\" class=\"data row1 col2\" >107994307.702982</td>\n",
              "                        <td id=\"T_e6c6d9b2_3a3f_11eb_8d96_0242ac1c0002row1_col3\" class=\"data row1 col3\" >5209.509495</td>\n",
              "                        <td id=\"T_e6c6d9b2_3a3f_11eb_8d96_0242ac1c0002row1_col4\" class=\"data row1 col4\" >0.019540</td>\n",
              "                        <td id=\"T_e6c6d9b2_3a3f_11eb_8d96_0242ac1c0002row1_col5\" class=\"data row1 col5\" >877.619370</td>\n",
              "                        <td id=\"T_e6c6d9b2_3a3f_11eb_8d96_0242ac1c0002row1_col6\" class=\"data row1 col6\" >1.376462</td>\n",
              "                        <td id=\"T_e6c6d9b2_3a3f_11eb_8d96_0242ac1c0002row1_col7\" class=\"data row1 col7\" >0.626203</td>\n",
              "                        <td id=\"T_e6c6d9b2_3a3f_11eb_8d96_0242ac1c0002row1_col8\" class=\"data row1 col8\" >25475.594466</td>\n",
              "            </tr>\n",
              "            <tr>\n",
              "                        <th id=\"T_e6c6d9b2_3a3f_11eb_8d96_0242ac1c0002level0_row2\" class=\"row_heading level0 row2\" >std</th>\n",
              "                        <td id=\"T_e6c6d9b2_3a3f_11eb_8d96_0242ac1c0002row2_col0\" class=\"data row2 col0\" >2886751.490286</td>\n",
              "                        <td id=\"T_e6c6d9b2_3a3f_11eb_8d96_0242ac1c0002row2_col1\" class=\"data row2 col1\" >11413809047.538729</td>\n",
              "                        <td id=\"T_e6c6d9b2_3a3f_11eb_8d96_0242ac1c0002row2_col2\" class=\"data row2 col2\" >63110239.544377</td>\n",
              "                        <td id=\"T_e6c6d9b2_3a3f_11eb_8d96_0242ac1c0002row2_col3\" class=\"data row2 col3\" >3867.782806</td>\n",
              "                        <td id=\"T_e6c6d9b2_3a3f_11eb_8d96_0242ac1c0002row2_col4\" class=\"data row2 col4\" >0.138412</td>\n",
              "                        <td id=\"T_e6c6d9b2_3a3f_11eb_8d96_0242ac1c0002row2_col5\" class=\"data row2 col5\" >1334.406605</td>\n",
              "                        <td id=\"T_e6c6d9b2_3a3f_11eb_8d96_0242ac1c0002row2_col6\" class=\"data row2 col6\" >1.193603</td>\n",
              "                        <td id=\"T_e6c6d9b2_3a3f_11eb_8d96_0242ac1c0002row2_col7\" class=\"data row2 col7\" >0.522640</td>\n",
              "                        <td id=\"T_e6c6d9b2_3a3f_11eb_8d96_0242ac1c0002row2_col8\" class=\"data row2 col8\" >19950.326243</td>\n",
              "            </tr>\n",
              "            <tr>\n",
              "                        <th id=\"T_e6c6d9b2_3a3f_11eb_8d96_0242ac1c0002level0_row3\" class=\"row_heading level0 row3\" >min</th>\n",
              "                        <td id=\"T_e6c6d9b2_3a3f_11eb_8d96_0242ac1c0002row3_col0\" class=\"data row3 col0\" >0.000000</td>\n",
              "                        <td id=\"T_e6c6d9b2_3a3f_11eb_8d96_0242ac1c0002row3_col1\" class=\"data row3 col1\" >0.000000</td>\n",
              "                        <td id=\"T_e6c6d9b2_3a3f_11eb_8d96_0242ac1c0002row3_col2\" class=\"data row3 col2\" >115.000000</td>\n",
              "                        <td id=\"T_e6c6d9b2_3a3f_11eb_8d96_0242ac1c0002row3_col3\" class=\"data row3 col3\" >0.000000</td>\n",
              "                        <td id=\"T_e6c6d9b2_3a3f_11eb_8d96_0242ac1c0002row3_col4\" class=\"data row3 col4\" >0.000000</td>\n",
              "                        <td id=\"T_e6c6d9b2_3a3f_11eb_8d96_0242ac1c0002row3_col5\" class=\"data row3 col5\" >0.000000</td>\n",
              "                        <td id=\"T_e6c6d9b2_3a3f_11eb_8d96_0242ac1c0002row3_col6\" class=\"data row3 col6\" >-1.000000</td>\n",
              "                        <td id=\"T_e6c6d9b2_3a3f_11eb_8d96_0242ac1c0002row3_col7\" class=\"data row3 col7\" >-1.000000</td>\n",
              "                        <td id=\"T_e6c6d9b2_3a3f_11eb_8d96_0242ac1c0002row3_col8\" class=\"data row3 col8\" >0.000000</td>\n",
              "            </tr>\n",
              "            <tr>\n",
              "                        <th id=\"T_e6c6d9b2_3a3f_11eb_8d96_0242ac1c0002level0_row4\" class=\"row_heading level0 row4\" >25%</th>\n",
              "                        <td id=\"T_e6c6d9b2_3a3f_11eb_8d96_0242ac1c0002row4_col0\" class=\"data row4 col0\" >2499999.750000</td>\n",
              "                        <td id=\"T_e6c6d9b2_3a3f_11eb_8d96_0242ac1c0002row4_col1\" class=\"data row4 col1\" >510959981.000000</td>\n",
              "                        <td id=\"T_e6c6d9b2_3a3f_11eb_8d96_0242ac1c0002row4_col2\" class=\"data row4 col2\" >53981772.000000</td>\n",
              "                        <td id=\"T_e6c6d9b2_3a3f_11eb_8d96_0242ac1c0002row4_col3\" class=\"data row4 col3\" >2059.000000</td>\n",
              "                        <td id=\"T_e6c6d9b2_3a3f_11eb_8d96_0242ac1c0002row4_col4\" class=\"data row4 col4\" >0.000000</td>\n",
              "                        <td id=\"T_e6c6d9b2_3a3f_11eb_8d96_0242ac1c0002row4_col5\" class=\"data row4 col5\" >102.000000</td>\n",
              "                        <td id=\"T_e6c6d9b2_3a3f_11eb_8d96_0242ac1c0002row4_col6\" class=\"data row4 col6\" >0.000000</td>\n",
              "                        <td id=\"T_e6c6d9b2_3a3f_11eb_8d96_0242ac1c0002row4_col7\" class=\"data row4 col7\" >0.000000</td>\n",
              "                        <td id=\"T_e6c6d9b2_3a3f_11eb_8d96_0242ac1c0002row4_col8\" class=\"data row4 col8\" >16000.000000</td>\n",
              "            </tr>\n",
              "            <tr>\n",
              "                        <th id=\"T_e6c6d9b2_3a3f_11eb_8d96_0242ac1c0002level0_row5\" class=\"row_heading level0 row5\" >50%</th>\n",
              "                        <td id=\"T_e6c6d9b2_3a3f_11eb_8d96_0242ac1c0002row5_col0\" class=\"data row5 col0\" >4999999.500000</td>\n",
              "                        <td id=\"T_e6c6d9b2_3a3f_11eb_8d96_0242ac1c0002row5_col1\" class=\"data row5 col1\" >2612310025.500000</td>\n",
              "                        <td id=\"T_e6c6d9b2_3a3f_11eb_8d96_0242ac1c0002row5_col2\" class=\"data row5 col2\" >106763796.000000</td>\n",
              "                        <td id=\"T_e6c6d9b2_3a3f_11eb_8d96_0242ac1c0002row5_col3\" class=\"data row5 col3\" >5016.000000</td>\n",
              "                        <td id=\"T_e6c6d9b2_3a3f_11eb_8d96_0242ac1c0002row5_col4\" class=\"data row5 col4\" >0.000000</td>\n",
              "                        <td id=\"T_e6c6d9b2_3a3f_11eb_8d96_0242ac1c0002row5_col5\" class=\"data row5 col5\" >371.000000</td>\n",
              "                        <td id=\"T_e6c6d9b2_3a3f_11eb_8d96_0242ac1c0002row5_col6\" class=\"data row5 col6\" >1.000000</td>\n",
              "                        <td id=\"T_e6c6d9b2_3a3f_11eb_8d96_0242ac1c0002row5_col7\" class=\"data row5 col7\" >1.000000</td>\n",
              "                        <td id=\"T_e6c6d9b2_3a3f_11eb_8d96_0242ac1c0002row5_col8\" class=\"data row5 col8\" >21000.000000</td>\n",
              "            </tr>\n",
              "            <tr>\n",
              "                        <th id=\"T_e6c6d9b2_3a3f_11eb_8d96_0242ac1c0002level0_row6\" class=\"row_heading level0 row6\" >75%</th>\n",
              "                        <td id=\"T_e6c6d9b2_3a3f_11eb_8d96_0242ac1c0002row6_col0\" class=\"data row6 col0\" >7499999.250000</td>\n",
              "                        <td id=\"T_e6c6d9b2_3a3f_11eb_8d96_0242ac1c0002row6_col1\" class=\"data row6 col1\" >9751909194.250000</td>\n",
              "                        <td id=\"T_e6c6d9b2_3a3f_11eb_8d96_0242ac1c0002row6_col2\" class=\"data row6 col2\" >163073451.000000</td>\n",
              "                        <td id=\"T_e6c6d9b2_3a3f_11eb_8d96_0242ac1c0002row6_col3\" class=\"data row6 col3\" >7402.000000</td>\n",
              "                        <td id=\"T_e6c6d9b2_3a3f_11eb_8d96_0242ac1c0002row6_col4\" class=\"data row6 col4\" >0.000000</td>\n",
              "                        <td id=\"T_e6c6d9b2_3a3f_11eb_8d96_0242ac1c0002row6_col5\" class=\"data row6 col5\" >1055.000000</td>\n",
              "                        <td id=\"T_e6c6d9b2_3a3f_11eb_8d96_0242ac1c0002row6_col6\" class=\"data row6 col6\" >3.000000</td>\n",
              "                        <td id=\"T_e6c6d9b2_3a3f_11eb_8d96_0242ac1c0002row6_col7\" class=\"data row6 col7\" >1.000000</td>\n",
              "                        <td id=\"T_e6c6d9b2_3a3f_11eb_8d96_0242ac1c0002row6_col8\" class=\"data row6 col8\" >29666.000000</td>\n",
              "            </tr>\n",
              "            <tr>\n",
              "                        <th id=\"T_e6c6d9b2_3a3f_11eb_8d96_0242ac1c0002level0_row7\" class=\"row_heading level0 row7\" >max</th>\n",
              "                        <td id=\"T_e6c6d9b2_3a3f_11eb_8d96_0242ac1c0002row7_col0\" class=\"data row7 col0\" >9999999.000000</td>\n",
              "                        <td id=\"T_e6c6d9b2_3a3f_11eb_8d96_0242ac1c0002row7_col1\" class=\"data row7 col1\" >84708159208.000000</td>\n",
              "                        <td id=\"T_e6c6d9b2_3a3f_11eb_8d96_0242ac1c0002row7_col2\" class=\"data row7 col2\" >216747867.000000</td>\n",
              "                        <td id=\"T_e6c6d9b2_3a3f_11eb_8d96_0242ac1c0002row7_col3\" class=\"data row7 col3\" >32736.000000</td>\n",
              "                        <td id=\"T_e6c6d9b2_3a3f_11eb_8d96_0242ac1c0002row7_col4\" class=\"data row7 col4\" >1.000000</td>\n",
              "                        <td id=\"T_e6c6d9b2_3a3f_11eb_8d96_0242ac1c0002row7_col5\" class=\"data row7 col5\" >9999.000000</td>\n",
              "                        <td id=\"T_e6c6d9b2_3a3f_11eb_8d96_0242ac1c0002row7_col6\" class=\"data row7 col6\" >3.000000</td>\n",
              "                        <td id=\"T_e6c6d9b2_3a3f_11eb_8d96_0242ac1c0002row7_col7\" class=\"data row7 col7\" >1.000000</td>\n",
              "                        <td id=\"T_e6c6d9b2_3a3f_11eb_8d96_0242ac1c0002row7_col8\" class=\"data row7 col8\" >300000.000000</td>\n",
              "            </tr>\n",
              "    </tbody></table>"
            ],
            "text/plain": [
              "<pandas.io.formats.style.Styler at 0x7f84a52488d0>"
            ]
          },
          "metadata": {
            "tags": []
          },
          "execution_count": 12
        }
      ]
    },
    {
      "cell_type": "markdown",
      "metadata": {
        "id": "q-cwYv-eixPH"
      },
      "source": [
        "CORRELATION PLOT  \r\n",
        " --finding the correlation between independent variables"
      ]
    },
    {
      "cell_type": "code",
      "metadata": {
        "colab": {
          "base_uri": "https://localhost:8080/",
          "height": 741
        },
        "id": "ZdzS087yhY30",
        "outputId": "642d0e13-f4e0-4e81-dd78-e7e11bdde8f5"
      },
      "source": [
        "import seaborn as sns\r\n",
        "import matplotlib.pyplot as plt\r\n",
        "plt.figure(figsize=(10, 10))\r\n",
        "# Store heatmap object in a variable to easily access it when you want to include more features (such as title).\r\n",
        "# Set the range of values to be displayed on the colormap from -1 to 1, and set the annotation to True to display the correlation values on the heatmap.\r\n",
        "heatmap = sns.heatmap(data.corr(), vmin=-1, vmax=1, annot=True)\r\n",
        "# Give a title to the heatmap. Pad defines the distance of the title from the top of the heatmap.\r\n",
        "heatmap.set_title('Correlation Heatmap for Independent variables in the dataset', fontdict={'fontsize':12}); #scale of -1 to +1"
      ],
      "execution_count": 13,
      "outputs": [
        {
          "output_type": "display_data",
          "data": {
            "image/png": "[encoded data removed]",
            "text/plain": [
              "<Figure size 720x720 with 2 Axes>"
            ]
          },
          "metadata": {
            "tags": [],
            "needs_background": "light"
          }
        }
      ]
    },
    {
      "cell_type": "code",
      "metadata": {
        "colab": {
          "base_uri": "https://localhost:8080/",
          "height": 718
        },
        "id": "-wr2rlxIjNeb",
        "outputId": "c8790fa8-9be5-4c3e-f8dd-c6e239a28284"
      },
      "source": [
        "import seaborn as sns\r\n",
        "plt.figure(figsize=(8, 12))\r\n",
        "heatmap = sns.heatmap(data.corr()[['answered_correctly']].sort_values(by='answered_correctly', ascending=False), vmin=-1, vmax=1, annot=True, cmap='BrBG')\r\n",
        "heatmap.set_title('Features Correlating with answered_correctly', fontdict={'fontsize':10}, pad=10);  #min and  max value [-1, +1]"
      ],
      "execution_count": 14,
      "outputs": [
        {
          "output_type": "display_data",
          "data": {
            "image/png": "[encoded data removed]",
            "text/plain": [
              "<Figure size 576x864 with 2 Axes>"
            ]
          },
          "metadata": {
            "tags": [],
            "needs_background": "light"
          }
        }
      ]
    },
    {
      "cell_type": "code",
      "metadata": {
        "colab": {
          "base_uri": "https://localhost:8080/"
        },
        "id": "y8uelSRljenV",
        "outputId": "fbef4ba6-5f64-4214-e415-228edb600c87"
      },
      "source": [
        "import numpy as np\r\n",
        "data['prior_question_had_explanation'] = data['prior_question_had_explanation'].replace(np.nan, data['prior_question_had_explanation'].mean)\r\n",
        "data['prior_question_elapsed_time'] = data['prior_question_elapsed_time'].replace(np.nan,(False))\r\n",
        "data.isna().sum()"
      ],
      "execution_count": 15,
      "outputs": [
        {
          "output_type": "execute_result",
          "data": {
            "text/plain": [
              "row_id                            0\n",
              "timestamp                         0\n",
              "user_id                           0\n",
              "content_id                        0\n",
              "content_type_id                   0\n",
              "task_container_id                 0\n",
              "user_answer                       0\n",
              "answered_correctly                0\n",
              "prior_question_elapsed_time       0\n",
              "prior_question_had_explanation    0\n",
              "dtype: int64"
            ]
          },
          "metadata": {
            "tags": []
          },
          "execution_count": 15
        }
      ]
    },
    {
      "cell_type": "markdown",
      "metadata": {
        "id": "xNWeGiY_nE4g"
      },
      "source": [
        "Checking the datatypes of the columns"
      ]
    },
    {
      "cell_type": "code",
      "metadata": {
        "colab": {
          "base_uri": "https://localhost:8080/"
        },
        "id": "GYfIyIVRj63n",
        "outputId": "ab0f1178-4899-4b1f-fe88-b26576ccba9e"
      },
      "source": [
        "data.dtypes"
      ],
      "execution_count": 16,
      "outputs": [
        {
          "output_type": "execute_result",
          "data": {
            "text/plain": [
              "row_id                              int64\n",
              "timestamp                           int64\n",
              "user_id                             int64\n",
              "content_id                          int64\n",
              "content_type_id                     int64\n",
              "task_container_id                   int64\n",
              "user_answer                         int64\n",
              "answered_correctly                  int64\n",
              "prior_question_elapsed_time       float64\n",
              "prior_question_had_explanation     object\n",
              "dtype: object"
            ]
          },
          "metadata": {
            "tags": []
          },
          "execution_count": 16
        }
      ]
    },
    {
      "cell_type": "code",
      "metadata": {
        "colab": {
          "base_uri": "https://localhost:8080/"
        },
        "id": "sImjbFofkoe-",
        "outputId": "f3dca329-9918-4147-a359-944820e71242"
      },
      "source": [
        "#to make the entire data in int and bool\r\n",
        "data['prior_question_had_explanation'] = data['prior_question_had_explanation'].astype('bool')\r\n",
        "data['prior_question_had_explanation'].dtypes"
      ],
      "execution_count": 17,
      "outputs": [
        {
          "output_type": "execute_result",
          "data": {
            "text/plain": [
              "dtype('bool')"
            ]
          },
          "metadata": {
            "tags": []
          },
          "execution_count": 17
        }
      ]
    },
    {
      "cell_type": "code",
      "metadata": {
        "colab": {
          "base_uri": "https://localhost:8080/"
        },
        "id": "Hhh9TFk7l2kt",
        "outputId": "63dfe228-ee9e-45b7-fdda-32f50cc232e2"
      },
      "source": [
        "#find the if thier is any null or any other vallue other than 0 and 1\r\n",
        "print('Unique value of content_type_id -> \\t',data.content_type_id.unique())\r\n",
        "print('count of unique value 0 and 1 are->\\n',data.content_type_id.value_counts())    #to see the lectures(1) attend and the question asked"
      ],
      "execution_count": 18,
      "outputs": [
        {
          "output_type": "stream",
          "text": [
            "Unique value of content_type_id -> \t [0 1]\n",
            "count of unique value 0 and 1 are->\n",
            " 0    9804604\n",
            "1     195396\n",
            "Name: content_type_id, dtype: int64\n"
          ],
          "name": "stdout"
        }
      ]
    },
    {
      "cell_type": "code",
      "metadata": {
        "colab": {
          "base_uri": "https://localhost:8080/"
        },
        "id": "CBgjlkV_nzZ0",
        "outputId": "f4304df6-4a90-4800-f550-0b22f219f966"
      },
      "source": [
        "#TARGET VARIABLE ANSERED CORRECTLY\r\n",
        "#-1 lecture\r\n",
        "# 0 incorrect \r\n",
        "# 1 is correct\r\n",
        "print(data.answered_correctly.value_counts())"
      ],
      "execution_count": 19,
      "outputs": [
        {
          "output_type": "stream",
          "text": [
            " 1    6457425\n",
            " 0    3347179\n",
            "-1     195396\n",
            "Name: answered_correctly, dtype: int64\n"
          ],
          "name": "stdout"
        }
      ]
    },
    {
      "cell_type": "code",
      "metadata": {
        "colab": {
          "base_uri": "https://localhost:8080/",
          "height": 452
        },
        "id": "WmQ7h2bn038F",
        "outputId": "5e4e7ad2-1195-4548-d5c0-118045bbe0b9"
      },
      "source": [
        "def countplot(column):\r\n",
        "    plt.figure(dpi=100)\r\n",
        "    sns.countplot(data[column])\r\n",
        "    plt.show()\r\n",
        "countplot('user_answer')"
      ],
      "execution_count": 20,
      "outputs": [
        {
          "output_type": "stream",
          "text": [
            "/usr/local/lib/python3.6/dist-packages/seaborn/_decorators.py:43: FutureWarning: Pass the following variable as a keyword arg: x. From version 0.12, the only valid positional argument will be `data`, and passing other arguments without an explicit keyword will result in an error or misinterpretation.\n",
            "  FutureWarning\n"
          ],
          "name": "stderr"
        },
        {
          "output_type": "display_data",
          "data": {
            "image/png": "[encoded data removed]",
            "text/plain": [
              "<Figure size 600x400 with 1 Axes>"
            ]
          },
          "metadata": {
            "tags": [],
            "needs_background": "light"
          }
        }
      ]
    },
    {
      "cell_type": "code",
      "metadata": {
        "colab": {
          "base_uri": "https://localhost:8080/",
          "height": 452
        },
        "id": "TuCErYb8cIJY",
        "outputId": "515b3af2-d50a-4210-d0e6-da071fc7be72"
      },
      "source": [
        "countplot('content_type_id')"
      ],
      "execution_count": 21,
      "outputs": [
        {
          "output_type": "stream",
          "text": [
            "/usr/local/lib/python3.6/dist-packages/seaborn/_decorators.py:43: FutureWarning: Pass the following variable as a keyword arg: x. From version 0.12, the only valid positional argument will be `data`, and passing other arguments without an explicit keyword will result in an error or misinterpretation.\n",
            "  FutureWarning\n"
          ],
          "name": "stderr"
        },
        {
          "output_type": "display_data",
          "data": {
            "image/png": "[encoded data removed]",
            "text/plain": [
              "<Figure size 600x400 with 1 Axes>"
            ]
          },
          "metadata": {
            "tags": [],
            "needs_background": "light"
          }
        }
      ]
    },
    {
      "cell_type": "code",
      "metadata": {
        "id": "anDEaq-hcZAY"
      },
      "source": [
        ""
      ],
      "execution_count": 25,
      "outputs": []
    },
    {
      "cell_type": "code",
      "metadata": {
        "colab": {
          "base_uri": "https://localhost:8080/",
          "height": 452
        },
        "id": "BcZ6j5Ws1DxA",
        "outputId": "64d788f8-1635-4ede-edb1-048e919d2a85"
      },
      "source": [
        "countplot('answered_correctly')"
      ],
      "execution_count": 26,
      "outputs": [
        {
          "output_type": "stream",
          "text": [
            "/usr/local/lib/python3.6/dist-packages/seaborn/_decorators.py:43: FutureWarning: Pass the following variable as a keyword arg: x. From version 0.12, the only valid positional argument will be `data`, and passing other arguments without an explicit keyword will result in an error or misinterpretation.\n",
            "  FutureWarning\n"
          ],
          "name": "stderr"
        },
        {
          "output_type": "display_data",
          "data": {
            "image/png": "[encoded data removed]",
            "text/plain": [
              "<Figure size 600x400 with 1 Axes>"
            ]
          },
          "metadata": {
            "tags": [],
            "needs_background": "light"
          }
        }
      ]
    },
    {
      "cell_type": "code",
      "metadata": {
        "colab": {
          "base_uri": "https://localhost:8080/",
          "height": 292
        },
        "id": "7Ono6FaLr2WV",
        "outputId": "2384a030-62c5-4ab8-e7db-28b36198182c"
      },
      "source": [
        "#plot graph of target variable\r\n",
        "import matplotlib.pyplot as plt\r\n",
        "correct = data[data.answered_correctly != -1].answered_correctly.value_counts()\r\n",
        "\r\n",
        "fig = plt.figure(figsize=(10,4))\r\n",
        "correct.plot.bar()\r\n",
        "plt.title(\"Questions answered correctly\")\r\n",
        "plt.ylabel('count ')\r\n",
        "plt.xlabel('value')\r\n",
        "plt.show()"
      ],
      "execution_count": 27,
      "outputs": [
        {
          "output_type": "display_data",
          "data": {
            "image/png": "[encoded data removed]",
            "text/plain": [
              "<Figure size 720x288 with 1 Axes>"
            ]
          },
          "metadata": {
            "tags": [],
            "needs_background": "light"
          }
        }
      ]
    },
    {
      "cell_type": "code",
      "metadata": {
        "colab": {
          "base_uri": "https://localhost:8080/",
          "height": 312
        },
        "id": "sY0pHgl3sO33",
        "outputId": "4c26f2ce-6ee4-40e3-af2c-462f20872a07"
      },
      "source": [
        "pq = data[data.answered_correctly != -1].groupby(['prior_question_had_explanation']).agg({'answered_correctly': ['mean']})\r\n",
        "fig = plt.figure(figsize=(12,4))\r\n",
        "pq.plot.bar(legend=None)\r\n",
        "plt.title(\"Answered_correctly versus Prior Question had explanation\")\r\n",
        "plt.xlabel(\"Percent answered correctly\")\r\n",
        "plt.ylabel(\"Prior question had explanation\")\r\n",
        "plt.xticks(rotation=0)\r\n",
        "plt.show()"
      ],
      "execution_count": 110,
      "outputs": [
        {
          "output_type": "display_data",
          "data": {
            "text/plain": [
              "<Figure size 864x288 with 0 Axes>"
            ]
          },
          "metadata": {
            "tags": []
          }
        },
        {
          "output_type": "display_data",
          "data": {
            "image/png": "[encoded data removed]",
            "text/plain": [
              "<Figure size 432x288 with 1 Axes>"
            ]
          },
          "metadata": {
            "tags": [],
            "needs_background": "light"
          }
        }
      ]
    },
    {
      "cell_type": "code",
      "metadata": {
        "colab": {
          "base_uri": "https://localhost:8080/",
          "height": 784
        },
        "id": "7w_4t7pFtR9K",
        "outputId": "90e9b396-99ef-4885-83ba-9b1e91e5bb00"
      },
      "source": [
        "data[([ 'timestamp', 'user_id', 'content_id', 'content_type_id',\r\n",
        "       'task_container_id', 'user_answer', 'answered_correctly'])].hist(figsize=(15,10),color=\"#7504ab\")\r\n",
        "      "
      ],
      "execution_count": 28,
      "outputs": [
        {
          "output_type": "execute_result",
          "data": {
            "text/plain": [
              "array([[<matplotlib.axes._subplots.AxesSubplot object at 0x7f84944970f0>,\n",
              "        <matplotlib.axes._subplots.AxesSubplot object at 0x7f848962d4a8>,\n",
              "        <matplotlib.axes._subplots.AxesSubplot object at 0x7f8489654710>],\n",
              "       [<matplotlib.axes._subplots.AxesSubplot object at 0x7f84895f9978>,\n",
              "        <matplotlib.axes._subplots.AxesSubplot object at 0x7f848961fbe0>,\n",
              "        <matplotlib.axes._subplots.AxesSubplot object at 0x7f84895c6e48>],\n",
              "       [<matplotlib.axes._subplots.AxesSubplot object at 0x7f84895750f0>,\n",
              "        <matplotlib.axes._subplots.AxesSubplot object at 0x7f84895a6320>,\n",
              "        <matplotlib.axes._subplots.AxesSubplot object at 0x7f84895a6390>]],\n",
              "      dtype=object)"
            ]
          },
          "metadata": {
            "tags": []
          },
          "execution_count": 28
        },
        {
          "output_type": "display_data",
          "data": {
            "image/png": "[encoded data removed]",
            "text/plain": [
              "<Figure size 1080x720 with 9 Axes>"
            ]
          },
          "metadata": {
            "tags": [],
            "needs_background": "light"
          }
        }
      ]
    },
    {
      "cell_type": "code",
      "metadata": {
        "colab": {
          "base_uri": "https://localhost:8080/"
        },
        "id": "4Hs3DSFAuAUa",
        "outputId": "ef48c42d-d4f4-47a1-d8c9-98f8b58795a3"
      },
      "source": [
        "data.columns"
      ],
      "execution_count": 30,
      "outputs": [
        {
          "output_type": "execute_result",
          "data": {
            "text/plain": [
              "Index(['row_id', 'timestamp', 'user_id', 'content_id', 'content_type_id',\n",
              "       'task_container_id', 'user_answer', 'answered_correctly',\n",
              "       'prior_question_elapsed_time', 'prior_question_had_explanation'],\n",
              "      dtype='object')"
            ]
          },
          "metadata": {
            "tags": []
          },
          "execution_count": 30
        }
      ]
    },
    {
      "cell_type": "code",
      "metadata": {
        "id": "9mmYTPx0eV-K"
      },
      "source": [
        "# row id ,timestamp user_id ,task_container_id  are not important columns of our target variable in the dataset"
      ],
      "execution_count": 31,
      "outputs": []
    },
    {
      "cell_type": "code",
      "metadata": {
        "id": "PZKAJ7mBepVi"
      },
      "source": [
        "''' now we will be implementing algorithm based in the columns prior_question_elapsed_time,prior_question_had_explanation,\r\n",
        " and answered_correctly'''"
      ],
      "execution_count": 32,
      "outputs": []
    },
    {
      "cell_type": "code",
      "metadata": {
        "id": "7lCNJdFxe2ne"
      },
      "source": [
        "#now we will be implementing algorithms and make prediction accordingly on based on decison tree ,naive bayes \r\n"
      ],
      "execution_count": 33,
      "outputs": []
    },
    {
      "cell_type": "code",
      "metadata": {
        "id": "c1YHovpXf0E9"
      },
      "source": [
        ""
      ],
      "execution_count": 33,
      "outputs": []
    },
    {
      "cell_type": "code",
      "metadata": {
        "id": "cBzXbvatf1lu"
      },
      "source": [
        ""
      ],
      "execution_count": null,
      "outputs": []
    },
    {
      "cell_type": "code",
      "metadata": {
        "id": "LgNDkFaof15I"
      },
      "source": [
        ""
      ],
      "execution_count": null,
      "outputs": []
    },
    {
      "cell_type": "code",
      "metadata": {
        "id": "FtrCej3af2PK"
      },
      "source": [
        ""
      ],
      "execution_count": null,
      "outputs": []
    },
    {
      "cell_type": "code",
      "metadata": {
        "id": "klgU66inf2xO"
      },
      "source": [
        ""
      ],
      "execution_count": null,
      "outputs": []
    },
    {
      "cell_type": "code",
      "metadata": {
        "id": "TdLnLXIEf3OD"
      },
      "source": [
        ""
      ],
      "execution_count": null,
      "outputs": []
    },
    {
      "cell_type": "code",
      "metadata": {
        "id": "cqPHXcHWf3rD"
      },
      "source": [
        ""
      ],
      "execution_count": null,
      "outputs": []
    },
    {
      "cell_type": "code",
      "metadata": {
        "id": "GrItZmI-f4gt"
      },
      "source": [
        ""
      ],
      "execution_count": null,
      "outputs": []
    },
    {
      "cell_type": "code",
      "metadata": {
        "id": "C3ZnpBjAf5DI"
      },
      "source": [
        ""
      ],
      "execution_count": null,
      "outputs": []
    },
    {
      "cell_type": "code",
      "metadata": {
        "id": "OlQuvwUKf5k6"
      },
      "source": [
        ""
      ],
      "execution_count": null,
      "outputs": []
    },
    {
      "cell_type": "code",
      "metadata": {
        "id": "t3Qz-AGIf57G"
      },
      "source": [
        ""
      ],
      "execution_count": null,
      "outputs": []
    },
    {
      "cell_type": "code",
      "metadata": {
        "id": "6kCktBMMf6Yx"
      },
      "source": [
        ""
      ],
      "execution_count": null,
      "outputs": []
    },
    {
      "cell_type": "code",
      "metadata": {
        "id": "riBc8TXWf66M"
      },
      "source": [
        ""
      ],
      "execution_count": null,
      "outputs": []
    },
    {
      "cell_type": "code",
      "metadata": {
        "id": "O5yXe0U2f7XC"
      },
      "source": [
        ""
      ],
      "execution_count": null,
      "outputs": []
    },
    {
      "cell_type": "code",
      "metadata": {
        "id": "ZER6IE78f7xF"
      },
      "source": [
        ""
      ],
      "execution_count": null,
      "outputs": []
    },
    {
      "cell_type": "code",
      "metadata": {
        "id": "z6rG4A9Uf8Vr"
      },
      "source": [
        "''' now we will be implementing join operation on train.csv ,lectures.csv and questions.csv extracting the impotanat features and make model on it'''"
      ],
      "execution_count": null,
      "outputs": []
    },
    {
      "cell_type": "markdown",
      "metadata": {
        "id": "CxPRXhrLgXCC"
      },
      "source": [
        " Now we will be implementing join operation on train.csv,lectures.csv and questions.csv extracting the important features and make model onit"
      ]
    },
    {
      "cell_type": "code",
      "metadata": {
        "id": "dqZiXyX8f9Rt"
      },
      "source": [
        "#dataset loading\r\n",
        "train_data=pd.read_csv('train.csv',nrows=10000000)\r\n",
        "lectures = pd.read_csv('lectures.csv')\r\n",
        "questions = pd.read_csv('questions.csv')"
      ],
      "execution_count": 44,
      "outputs": []
    },
    {
      "cell_type": "code",
      "metadata": {
        "colab": {
          "base_uri": "https://localhost:8080/",
          "height": 197
        },
        "id": "e3psF-t6grZo",
        "outputId": "f507be02-a707-4d6e-86b2-74dc58c014d0"
      },
      "source": [
        "questions.head()"
      ],
      "execution_count": 45,
      "outputs": [
        {
          "output_type": "execute_result",
          "data": {
            "text/html": [
              "<div>\n",
              "<style scoped>\n",
              "    .dataframe tbody tr th:only-of-type {\n",
              "        vertical-align: middle;\n",
              "    }\n",
              "\n",
              "    .dataframe tbody tr th {\n",
              "        vertical-align: top;\n",
              "    }\n",
              "\n",
              "    .dataframe thead th {\n",
              "        text-align: right;\n",
              "    }\n",
              "</style>\n",
              "<table border=\"1\" class=\"dataframe\">\n",
              "  <thead>\n",
              "    <tr style=\"text-align: right;\">\n",
              "      <th></th>\n",
              "      <th>question_id</th>\n",
              "      <th>bundle_id</th>\n",
              "      <th>correct_answer</th>\n",
              "      <th>part</th>\n",
              "      <th>tags</th>\n",
              "    </tr>\n",
              "  </thead>\n",
              "  <tbody>\n",
              "    <tr>\n",
              "      <th>0</th>\n",
              "      <td>0</td>\n",
              "      <td>0</td>\n",
              "      <td>0</td>\n",
              "      <td>1</td>\n",
              "      <td>51 131 162 38</td>\n",
              "    </tr>\n",
              "    <tr>\n",
              "      <th>1</th>\n",
              "      <td>1</td>\n",
              "      <td>1</td>\n",
              "      <td>1</td>\n",
              "      <td>1</td>\n",
              "      <td>131 36 81</td>\n",
              "    </tr>\n",
              "    <tr>\n",
              "      <th>2</th>\n",
              "      <td>2</td>\n",
              "      <td>2</td>\n",
              "      <td>0</td>\n",
              "      <td>1</td>\n",
              "      <td>131 101 162 92</td>\n",
              "    </tr>\n",
              "    <tr>\n",
              "      <th>3</th>\n",
              "      <td>3</td>\n",
              "      <td>3</td>\n",
              "      <td>0</td>\n",
              "      <td>1</td>\n",
              "      <td>131 149 162 29</td>\n",
              "    </tr>\n",
              "    <tr>\n",
              "      <th>4</th>\n",
              "      <td>4</td>\n",
              "      <td>4</td>\n",
              "      <td>3</td>\n",
              "      <td>1</td>\n",
              "      <td>131 5 162 38</td>\n",
              "    </tr>\n",
              "  </tbody>\n",
              "</table>\n",
              "</div>"
            ],
            "text/plain": [
              "   question_id  bundle_id  correct_answer  part            tags\n",
              "0            0          0               0     1   51 131 162 38\n",
              "1            1          1               1     1       131 36 81\n",
              "2            2          2               0     1  131 101 162 92\n",
              "3            3          3               0     1  131 149 162 29\n",
              "4            4          4               3     1    131 5 162 38"
            ]
          },
          "metadata": {
            "tags": []
          },
          "execution_count": 45
        }
      ]
    },
    {
      "cell_type": "code",
      "metadata": {
        "colab": {
          "base_uri": "https://localhost:8080/",
          "height": 197
        },
        "id": "N_of5pQxgzbW",
        "outputId": "8d9b3605-e111-4dc2-e8a7-3e1620397de9"
      },
      "source": [
        "lectures.head()"
      ],
      "execution_count": 43,
      "outputs": [
        {
          "output_type": "execute_result",
          "data": {
            "text/html": [
              "<div>\n",
              "<style scoped>\n",
              "    .dataframe tbody tr th:only-of-type {\n",
              "        vertical-align: middle;\n",
              "    }\n",
              "\n",
              "    .dataframe tbody tr th {\n",
              "        vertical-align: top;\n",
              "    }\n",
              "\n",
              "    .dataframe thead th {\n",
              "        text-align: right;\n",
              "    }\n",
              "</style>\n",
              "<table border=\"1\" class=\"dataframe\">\n",
              "  <thead>\n",
              "    <tr style=\"text-align: right;\">\n",
              "      <th></th>\n",
              "      <th>lecture_id</th>\n",
              "      <th>tag</th>\n",
              "      <th>part</th>\n",
              "      <th>type_of</th>\n",
              "    </tr>\n",
              "  </thead>\n",
              "  <tbody>\n",
              "    <tr>\n",
              "      <th>0</th>\n",
              "      <td>89</td>\n",
              "      <td>159</td>\n",
              "      <td>5</td>\n",
              "      <td>concept</td>\n",
              "    </tr>\n",
              "    <tr>\n",
              "      <th>1</th>\n",
              "      <td>100</td>\n",
              "      <td>70</td>\n",
              "      <td>1</td>\n",
              "      <td>concept</td>\n",
              "    </tr>\n",
              "    <tr>\n",
              "      <th>2</th>\n",
              "      <td>185</td>\n",
              "      <td>45</td>\n",
              "      <td>6</td>\n",
              "      <td>concept</td>\n",
              "    </tr>\n",
              "    <tr>\n",
              "      <th>3</th>\n",
              "      <td>192</td>\n",
              "      <td>79</td>\n",
              "      <td>5</td>\n",
              "      <td>solving question</td>\n",
              "    </tr>\n",
              "    <tr>\n",
              "      <th>4</th>\n",
              "      <td>317</td>\n",
              "      <td>156</td>\n",
              "      <td>5</td>\n",
              "      <td>solving question</td>\n",
              "    </tr>\n",
              "  </tbody>\n",
              "</table>\n",
              "</div>"
            ],
            "text/plain": [
              "   lecture_id  tag  part           type_of\n",
              "0          89  159     5           concept\n",
              "1         100   70     1           concept\n",
              "2         185   45     6           concept\n",
              "3         192   79     5  solving question\n",
              "4         317  156     5  solving question"
            ]
          },
          "metadata": {
            "tags": []
          },
          "execution_count": 43
        }
      ]
    },
    {
      "cell_type": "markdown",
      "metadata": {
        "id": "lg_u7VzmhLaX"
      },
      "source": [
        "Now we will performing merge functions on the tables"
      ]
    },
    {
      "cell_type": "markdown",
      "metadata": {
        "id": "-iRyEfGfhiZ4"
      },
      "source": [
        "We will be selecting these coulmns and implement and form a model\r\n",
        "\r\n",
        "question stats - question_success_rate, part_success_rate\r\n",
        "\r\n",
        "\r\n",
        "\r\n",
        "user general stats - user_success_rate, user_part_success_rate, user_relative_success_rate, \r\n",
        "\r\n",
        "\r\n",
        "user current stats - lectures_watched, prior_question_elapsed_time, prior_question_had_explanation, prior_group_answers_correct\r\n"
      ]
    },
    {
      "cell_type": "code",
      "metadata": {
        "colab": {
          "base_uri": "https://localhost:8080/",
          "height": 197
        },
        "id": "lWotvpQag12E",
        "outputId": "35a1fd61-3a76-447a-8f00-04d861275347"
      },
      "source": [
        "import numpy as np\r\n",
        "user_general_stats = train_data[train_data['content_type_id']==0][['user_id', 'answered_correctly']].groupby('user_id').agg({'answered_correctly':\r\n",
        "                                  ['count', np.sum]})\r\n",
        "user_general_stats.columns = user_general_stats.columns.droplevel()\r\n",
        "user_general_stats = user_general_stats.reset_index().rename(columns={'sum': 'correct_answers', 'count': 'total_questions'})\r\n",
        "user_general_stats['user_success_rate'] = user_general_stats['correct_answers']/user_general_stats['total_questions']\r\n",
        "user_general_stats = user_general_stats[['user_id', 'user_success_rate']]\r\n",
        "user_general_stats.head()"
      ],
      "execution_count": 46,
      "outputs": [
        {
          "output_type": "execute_result",
          "data": {
            "text/html": [
              "<div>\n",
              "<style scoped>\n",
              "    .dataframe tbody tr th:only-of-type {\n",
              "        vertical-align: middle;\n",
              "    }\n",
              "\n",
              "    .dataframe tbody tr th {\n",
              "        vertical-align: top;\n",
              "    }\n",
              "\n",
              "    .dataframe thead th {\n",
              "        text-align: right;\n",
              "    }\n",
              "</style>\n",
              "<table border=\"1\" class=\"dataframe\">\n",
              "  <thead>\n",
              "    <tr style=\"text-align: right;\">\n",
              "      <th></th>\n",
              "      <th>user_id</th>\n",
              "      <th>user_success_rate</th>\n",
              "    </tr>\n",
              "  </thead>\n",
              "  <tbody>\n",
              "    <tr>\n",
              "      <th>0</th>\n",
              "      <td>115</td>\n",
              "      <td>0.695652</td>\n",
              "    </tr>\n",
              "    <tr>\n",
              "      <th>1</th>\n",
              "      <td>124</td>\n",
              "      <td>0.233333</td>\n",
              "    </tr>\n",
              "    <tr>\n",
              "      <th>2</th>\n",
              "      <td>2746</td>\n",
              "      <td>0.578947</td>\n",
              "    </tr>\n",
              "    <tr>\n",
              "      <th>3</th>\n",
              "      <td>5382</td>\n",
              "      <td>0.672000</td>\n",
              "    </tr>\n",
              "    <tr>\n",
              "      <th>4</th>\n",
              "      <td>8623</td>\n",
              "      <td>0.642202</td>\n",
              "    </tr>\n",
              "  </tbody>\n",
              "</table>\n",
              "</div>"
            ],
            "text/plain": [
              "   user_id  user_success_rate\n",
              "0      115           0.695652\n",
              "1      124           0.233333\n",
              "2     2746           0.578947\n",
              "3     5382           0.672000\n",
              "4     8623           0.642202"
            ]
          },
          "metadata": {
            "tags": []
          },
          "execution_count": 46
        }
      ]
    },
    {
      "cell_type": "code",
      "metadata": {
        "colab": {
          "base_uri": "https://localhost:8080/",
          "height": 197
        },
        "id": "EeKaQ0aOihk5",
        "outputId": "726f5049-6323-4d2f-9019-571ddde7f2d1"
      },
      "source": [
        "question_stats = train_data[train_data['content_type_id']==0][['content_id', 'answered_correctly']].groupby('content_id').agg({'answered_correctly':\r\n",
        "                                  ['count', np.sum]})\r\n",
        "question_stats.columns = question_stats.columns.droplevel()\r\n",
        "question_stats = question_stats.reset_index().rename(columns={'sum': 'correct_answers', 'count': 'total_questions'})\r\n",
        "question_stats['question_success_rate'] = question_stats['correct_answers']/question_stats['total_questions']\r\n",
        "question_stats = question_stats[['content_id', 'question_success_rate']]\r\n",
        "question_stats.head()"
      ],
      "execution_count": 52,
      "outputs": [
        {
          "output_type": "execute_result",
          "data": {
            "text/html": [
              "<div>\n",
              "<style scoped>\n",
              "    .dataframe tbody tr th:only-of-type {\n",
              "        vertical-align: middle;\n",
              "    }\n",
              "\n",
              "    .dataframe tbody tr th {\n",
              "        vertical-align: top;\n",
              "    }\n",
              "\n",
              "    .dataframe thead th {\n",
              "        text-align: right;\n",
              "    }\n",
              "</style>\n",
              "<table border=\"1\" class=\"dataframe\">\n",
              "  <thead>\n",
              "    <tr style=\"text-align: right;\">\n",
              "      <th></th>\n",
              "      <th>content_id</th>\n",
              "      <th>question_success_rate</th>\n",
              "    </tr>\n",
              "  </thead>\n",
              "  <tbody>\n",
              "    <tr>\n",
              "      <th>0</th>\n",
              "      <td>0</td>\n",
              "      <td>0.908828</td>\n",
              "    </tr>\n",
              "    <tr>\n",
              "      <th>1</th>\n",
              "      <td>1</td>\n",
              "      <td>0.893939</td>\n",
              "    </tr>\n",
              "    <tr>\n",
              "      <th>2</th>\n",
              "      <td>2</td>\n",
              "      <td>0.562319</td>\n",
              "    </tr>\n",
              "    <tr>\n",
              "      <th>3</th>\n",
              "      <td>3</td>\n",
              "      <td>0.780316</td>\n",
              "    </tr>\n",
              "    <tr>\n",
              "      <th>4</th>\n",
              "      <td>4</td>\n",
              "      <td>0.627973</td>\n",
              "    </tr>\n",
              "  </tbody>\n",
              "</table>\n",
              "</div>"
            ],
            "text/plain": [
              "   content_id  question_success_rate\n",
              "0           0               0.908828\n",
              "1           1               0.893939\n",
              "2           2               0.562319\n",
              "3           3               0.780316\n",
              "4           4               0.627973"
            ]
          },
          "metadata": {
            "tags": []
          },
          "execution_count": 52
        }
      ]
    },
    {
      "cell_type": "code",
      "metadata": {
        "colab": {
          "base_uri": "https://localhost:8080/",
          "height": 217
        },
        "id": "XqBiM-TuimIX",
        "outputId": "33259b06-7f60-4b47-f366-33ce31bb905b"
      },
      "source": [
        "training = pd.merge(train_data[train_data['content_type_id']==0], user_general_stats, on='user_id', how='left')\r\n",
        "training = pd.merge(training, question_stats, on='content_id', how='left')\r\n",
        "training.head()"
      ],
      "execution_count": 53,
      "outputs": [
        {
          "output_type": "execute_result",
          "data": {
            "text/html": [
              "<div>\n",
              "<style scoped>\n",
              "    .dataframe tbody tr th:only-of-type {\n",
              "        vertical-align: middle;\n",
              "    }\n",
              "\n",
              "    .dataframe tbody tr th {\n",
              "        vertical-align: top;\n",
              "    }\n",
              "\n",
              "    .dataframe thead th {\n",
              "        text-align: right;\n",
              "    }\n",
              "</style>\n",
              "<table border=\"1\" class=\"dataframe\">\n",
              "  <thead>\n",
              "    <tr style=\"text-align: right;\">\n",
              "      <th></th>\n",
              "      <th>row_id</th>\n",
              "      <th>timestamp</th>\n",
              "      <th>user_id</th>\n",
              "      <th>content_id</th>\n",
              "      <th>content_type_id</th>\n",
              "      <th>task_container_id</th>\n",
              "      <th>user_answer</th>\n",
              "      <th>answered_correctly</th>\n",
              "      <th>prior_question_elapsed_time</th>\n",
              "      <th>prior_question_had_explanation</th>\n",
              "      <th>user_success_rate</th>\n",
              "      <th>question_success_rate</th>\n",
              "    </tr>\n",
              "  </thead>\n",
              "  <tbody>\n",
              "    <tr>\n",
              "      <th>0</th>\n",
              "      <td>0</td>\n",
              "      <td>0</td>\n",
              "      <td>115</td>\n",
              "      <td>5692</td>\n",
              "      <td>0</td>\n",
              "      <td>1</td>\n",
              "      <td>3</td>\n",
              "      <td>1</td>\n",
              "      <td>NaN</td>\n",
              "      <td>NaN</td>\n",
              "      <td>0.695652</td>\n",
              "      <td>0.741545</td>\n",
              "    </tr>\n",
              "    <tr>\n",
              "      <th>1</th>\n",
              "      <td>1</td>\n",
              "      <td>56943</td>\n",
              "      <td>115</td>\n",
              "      <td>5716</td>\n",
              "      <td>0</td>\n",
              "      <td>2</td>\n",
              "      <td>2</td>\n",
              "      <td>1</td>\n",
              "      <td>37000.0</td>\n",
              "      <td>False</td>\n",
              "      <td>0.695652</td>\n",
              "      <td>0.735690</td>\n",
              "    </tr>\n",
              "    <tr>\n",
              "      <th>2</th>\n",
              "      <td>2</td>\n",
              "      <td>118363</td>\n",
              "      <td>115</td>\n",
              "      <td>128</td>\n",
              "      <td>0</td>\n",
              "      <td>0</td>\n",
              "      <td>0</td>\n",
              "      <td>1</td>\n",
              "      <td>55000.0</td>\n",
              "      <td>False</td>\n",
              "      <td>0.695652</td>\n",
              "      <td>0.973877</td>\n",
              "    </tr>\n",
              "    <tr>\n",
              "      <th>3</th>\n",
              "      <td>3</td>\n",
              "      <td>131167</td>\n",
              "      <td>115</td>\n",
              "      <td>7860</td>\n",
              "      <td>0</td>\n",
              "      <td>3</td>\n",
              "      <td>0</td>\n",
              "      <td>1</td>\n",
              "      <td>19000.0</td>\n",
              "      <td>False</td>\n",
              "      <td>0.695652</td>\n",
              "      <td>0.955545</td>\n",
              "    </tr>\n",
              "    <tr>\n",
              "      <th>4</th>\n",
              "      <td>4</td>\n",
              "      <td>137965</td>\n",
              "      <td>115</td>\n",
              "      <td>7922</td>\n",
              "      <td>0</td>\n",
              "      <td>4</td>\n",
              "      <td>1</td>\n",
              "      <td>1</td>\n",
              "      <td>11000.0</td>\n",
              "      <td>False</td>\n",
              "      <td>0.695652</td>\n",
              "      <td>0.952609</td>\n",
              "    </tr>\n",
              "  </tbody>\n",
              "</table>\n",
              "</div>"
            ],
            "text/plain": [
              "   row_id  timestamp  ...  user_success_rate  question_success_rate\n",
              "0       0          0  ...           0.695652               0.741545\n",
              "1       1      56943  ...           0.695652               0.735690\n",
              "2       2     118363  ...           0.695652               0.973877\n",
              "3       3     131167  ...           0.695652               0.955545\n",
              "4       4     137965  ...           0.695652               0.952609\n",
              "\n",
              "[5 rows x 12 columns]"
            ]
          },
          "metadata": {
            "tags": []
          },
          "execution_count": 53
        }
      ]
    },
    {
      "cell_type": "code",
      "metadata": {
        "colab": {
          "base_uri": "https://localhost:8080/",
          "height": 107
        },
        "id": "CT5eO_WYi1n5",
        "outputId": "d20ae443-8e0a-4f9f-c568-bf6bcf50b08b"
      },
      "source": [
        "final = training[['user_success_rate', 'question_success_rate', 'answered_correctly']]\r\n",
        "final= final.groupby('answered_correctly').agg('mean').reset_index()\r\n",
        "final"
      ],
      "execution_count": 59,
      "outputs": [
        {
          "output_type": "execute_result",
          "data": {
            "text/html": [
              "<div>\n",
              "<style scoped>\n",
              "    .dataframe tbody tr th:only-of-type {\n",
              "        vertical-align: middle;\n",
              "    }\n",
              "\n",
              "    .dataframe tbody tr th {\n",
              "        vertical-align: top;\n",
              "    }\n",
              "\n",
              "    .dataframe thead th {\n",
              "        text-align: right;\n",
              "    }\n",
              "</style>\n",
              "<table border=\"1\" class=\"dataframe\">\n",
              "  <thead>\n",
              "    <tr style=\"text-align: right;\">\n",
              "      <th></th>\n",
              "      <th>answered_correctly</th>\n",
              "      <th>user_success_rate</th>\n",
              "      <th>question_success_rate</th>\n",
              "    </tr>\n",
              "  </thead>\n",
              "  <tbody>\n",
              "    <tr>\n",
              "      <th>0</th>\n",
              "      <td>0</td>\n",
              "      <td>0.620693</td>\n",
              "      <td>0.568732</td>\n",
              "    </tr>\n",
              "    <tr>\n",
              "      <th>1</th>\n",
              "      <td>1</td>\n",
              "      <td>0.678266</td>\n",
              "      <td>0.705200</td>\n",
              "    </tr>\n",
              "  </tbody>\n",
              "</table>\n",
              "</div>"
            ],
            "text/plain": [
              "   answered_correctly  user_success_rate  question_success_rate\n",
              "0                   0           0.620693               0.568732\n",
              "1                   1           0.678266               0.705200"
            ]
          },
          "metadata": {
            "tags": []
          },
          "execution_count": 59
        }
      ]
    },
    {
      "cell_type": "code",
      "metadata": {
        "id": "wH6sXKxljNU1"
      },
      "source": [
        "from tensorflow import keras\r\n",
        "from keras.models import Sequential\r\n",
        "from keras.layers import Dense , Dropout\r\n",
        "\r\n",
        "model = keras.Sequential()\r\n",
        "model.add(Dense(16, input_shape=(2,), activation='relu'))\r\n",
        "model.add(Dropout(0.3))\r\n",
        "\r\n",
        "model.add(Dense(8, activation='sigmoid'))\r\n",
        "model.add(Dropout(0.2))\r\n",
        "\r\n",
        "model.add(Dense(1, activation='sigmoid'))\r\n",
        "\r\n",
        "model.compile(optimizer='sgd', loss='binary_crossentropy', metrics=['accuracy']) #auc"
      ],
      "execution_count": 74,
      "outputs": []
    },
    {
      "cell_type": "code",
      "metadata": {
        "colab": {
          "base_uri": "https://localhost:8080/"
        },
        "id": "xNnzTS24j-kB",
        "outputId": "51e1eec8-17c1-4be3-99e8-d674c749cc92"
      },
      "source": [
        "X = training[['user_success_rate', 'question_success_rate']].values\r\n",
        "y = training[['answered_correctly']].values\r\n",
        "print(X.shape)\r\n",
        "print(y.shape)\r\n"
      ],
      "execution_count": 75,
      "outputs": [
        {
          "output_type": "stream",
          "text": [
            "(9804604, 2)\n",
            "(9804604, 1)\n"
          ],
          "name": "stdout"
        }
      ]
    },
    {
      "cell_type": "code",
      "metadata": {
        "colab": {
          "base_uri": "https://localhost:8080/"
        },
        "id": "z90faEF2kTIp",
        "outputId": "82cca2fb-54d6-4f3f-c684-541505f4a199"
      },
      "source": [
        "model.fit(\r\n",
        "  x=X,\r\n",
        "  y=y,\r\n",
        "  epochs=2\r\n",
        ")"
      ],
      "execution_count": null,
      "outputs": [
        {
          "output_type": "stream",
          "text": [
            "Epoch 1/2\n",
            "145103/306394 [=============>................] - ETA: 2:52 - loss: 0.5922 - accuracy: 0.6890"
          ],
          "name": "stdout"
        }
      ]
    },
    {
      "cell_type": "code",
      "metadata": {
        "id": "SuLjj4RWkZ6r"
      },
      "source": [
        ""
      ],
      "execution_count": null,
      "outputs": []
    }
  ]
}